{
  "cells": [
    {
      "cell_type": "markdown",
      "metadata": {
        "id": "view-in-github",
        "colab_type": "text"
      },
      "source": [
        "<a href=\"https://colab.research.google.com/github/AtfastrSlushyMaker/pl-standings-prediction-project/blob/main/notebooks/data_preparation.ipynb\" target=\"_parent\"><img src=\"https://colab.research.google.com/assets/colab-badge.svg\" alt=\"Open In Colab\"/></a>"
      ]
    },
    {
      "cell_type": "code",
      "execution_count": null,
      "id": "5ff5cc33",
      "metadata": {
        "id": "5ff5cc33"
      },
      "outputs": [],
      "source": [
        "import pandas as pd              # For data manipulation and analysis\n",
        "import numpy as np               # For numerical operations\n",
        "import matplotlib.pyplot as plt  # For data visualization (basic)\n",
        "import seaborn as sns            # For advanced data visualization"
      ]
    }
  ],
  "metadata": {
    "language_info": {
      "name": "python"
    },
    "colab": {
      "provenance": [],
      "include_colab_link": true
    }
  },
  "nbformat": 4,
  "nbformat_minor": 5
}