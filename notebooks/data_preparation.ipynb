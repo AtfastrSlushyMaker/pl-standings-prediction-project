{
 "cells": [
  {
   "cell_type": "code",
   "execution_count": null,
   "id": "5ff5cc33",
   "metadata": {},
   "outputs": [],
   "source": [
    "import pandas as pd              # For data manipulation and analysis\n",
    "import numpy as np               # For numerical operations\n",
    "import matplotlib.pyplot as plt  # For data visualization (basic)\n",
    "import seaborn as sns            # For advanced data visualization"
   ]
  }
 ],
 "metadata": {
  "language_info": {
   "name": "python"
  }
 },
 "nbformat": 4,
 "nbformat_minor": 5
}
